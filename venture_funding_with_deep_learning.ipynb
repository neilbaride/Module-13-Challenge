{
 "cells": [
  {
   "cell_type": "markdown",
   "metadata": {},
   "source": [
    "# Venture Funding with Deep Learning\n",
    "\n",
    "You work as a risk management associate at Alphabet Soup, a venture capital firm. Alphabet Soup’s business team receives many funding applications from startups every day. This team has asked you to help them create a model that predicts whether applicants will be successful if funded by Alphabet Soup.\n",
    "\n",
    "The business team has given you a CSV containing more than 34,000 organizations that have received funding from Alphabet Soup over the years. With your knowledge of machine learning and neural networks, you decide to use the features in the provided dataset to create a binary classifier model that will predict whether an applicant will become a successful business. The CSV file contains a variety of information about these businesses, including whether or not they ultimately became successful.\n",
    "\n",
    "## Instructions:\n",
    "\n",
    "The steps for this challenge are broken out into the following sections:\n",
    "\n",
    "* Prepare the data for use on a neural network model.\n",
    "\n",
    "* Compile and evaluate a binary classification model using a neural network.\n",
    "\n",
    "* Optimize the neural network model.\n",
    "\n",
    "### Prepare the Data for Use on a Neural Network Model \n",
    "\n",
    "Using your knowledge of Pandas and scikit-learn’s `StandardScaler()`, preprocess the dataset so that you can use it to compile and evaluate the neural network model later.\n",
    "\n",
    "Open the starter code file, and complete the following data preparation steps:\n",
    "\n",
    "1. Read the `applicants_data.csv` file into a Pandas DataFrame. Review the DataFrame, looking for categorical variables that will need to be encoded, as well as columns that could eventually define your features and target variables.   \n",
    "\n",
    "2. Drop the “EIN” (Employer Identification Number) and “NAME” columns from the DataFrame, because they are not relevant to the binary classification model.\n",
    " \n",
    "3. Encode the dataset’s categorical variables using `OneHotEncoder`, and then place the encoded variables into a new DataFrame.\n",
    "\n",
    "4. Add the original DataFrame’s numerical variables to the DataFrame containing the encoded variables.\n",
    "\n",
    "> **Note** To complete this step, you will employ the Pandas `concat()` function that was introduced earlier in this course. \n",
    "\n",
    "5. Using the preprocessed data, create the features (`X`) and target (`y`) datasets. The target dataset should be defined by the preprocessed DataFrame column “IS_SUCCESSFUL”. The remaining columns should define the features dataset. \n",
    "\n",
    "6. Split the features and target sets into training and testing datasets.\n",
    "\n",
    "7. Use scikit-learn's `StandardScaler` to scale the features data.\n",
    "\n",
    "### Compile and Evaluate a Binary Classification Model Using a Neural Network\n",
    "\n",
    "Use your knowledge of TensorFlow to design a binary classification deep neural network model. This model should use the dataset’s features to predict whether an Alphabet Soup&ndash;funded startup will be successful based on the features in the dataset. Consider the number of inputs before determining the number of layers that your model will contain or the number of neurons on each layer. Then, compile and fit your model. Finally, evaluate your binary classification model to calculate the model’s loss and accuracy. \n",
    " \n",
    "To do so, complete the following steps:\n",
    "\n",
    "1. Create a deep neural network by assigning the number of input features, the number of layers, and the number of neurons on each layer using Tensorflow’s Keras.\n",
    "\n",
    "> **Hint** You can start with a two-layer deep neural network model that uses the `relu` activation function for both layers.\n",
    "\n",
    "2. Compile and fit the model using the `binary_crossentropy` loss function, the `adam` optimizer, and the `accuracy` evaluation metric.\n",
    "\n",
    "> **Hint** When fitting the model, start with a small number of epochs, such as 20, 50, or 100.\n",
    "\n",
    "3. Evaluate the model using the test data to determine the model’s loss and accuracy.\n",
    "\n",
    "4. Save and export your model to an HDF5 file, and name the file `AlphabetSoup.h5`. \n",
    "\n",
    "### Optimize the Neural Network Model\n",
    "\n",
    "Using your knowledge of TensorFlow and Keras, optimize your model to improve the model's accuracy. Even if you do not successfully achieve a better accuracy, you'll need to demonstrate at least two attempts to optimize the model. You can include these attempts in your existing notebook. Or, you can make copies of the starter notebook in the same folder, rename them, and code each model optimization in a new notebook. \n",
    "\n",
    "> **Note** You will not lose points if your model does not achieve a high accuracy, as long as you make at least two attempts to optimize the model.\n",
    "\n",
    "To do so, complete the following steps:\n",
    "\n",
    "1. Define at least three new deep neural network models (the original plus 2 optimization attempts). With each, try to improve on your first model’s predictive accuracy.\n",
    "\n",
    "> **Rewind** Recall that perfect accuracy has a value of 1, so accuracy improves as its value moves closer to 1. To optimize your model for a predictive accuracy as close to 1 as possible, you can use any or all of the following techniques:\n",
    ">\n",
    "> * Adjust the input data by dropping different features columns to ensure that no variables or outliers confuse the model.\n",
    ">\n",
    "> * Add more neurons (nodes) to a hidden layer.\n",
    ">\n",
    "> * Add more hidden layers.\n",
    ">\n",
    "> * Use different activation functions for the hidden layers.\n",
    ">\n",
    "> * Add to or reduce the number of epochs in the training regimen.\n",
    "\n",
    "2. After finishing your models, display the accuracy scores achieved by each model, and compare the results.\n",
    "\n",
    "3. Save each of your models as an HDF5 file.\n"
   ]
  },
  {
   "cell_type": "code",
   "execution_count": 113,
   "metadata": {},
   "outputs": [],
   "source": [
    "# Imports\n",
    "import pandas as pd\n",
    "from pathlib import Path\n",
    "import tensorflow as tf\n",
    "from tensorflow.keras.layers import Dense\n",
    "from tensorflow.keras.models import Sequential\n",
    "from sklearn.model_selection import train_test_split\n",
    "from sklearn.preprocessing import StandardScaler,OneHotEncoder"
   ]
  },
  {
   "cell_type": "markdown",
   "metadata": {},
   "source": [
    "---\n",
    "\n",
    "## Prepare the data to be used on a neural network model"
   ]
  },
  {
   "cell_type": "markdown",
   "metadata": {},
   "source": [
    "### Step 1: Read the `applicants_data.csv` file into a Pandas DataFrame. Review the DataFrame, looking for categorical variables that will need to be encoded, as well as columns that could eventually define your features and target variables.  \n"
   ]
  },
  {
   "cell_type": "code",
   "execution_count": 114,
   "metadata": {},
   "outputs": [
    {
     "name": "stdout",
     "output_type": "stream",
     "text": [
      "        EIN                                      NAME APPLICATION_TYPE  \\\n",
      "0  10520599              BLUE KNIGHTS MOTORCYCLE CLUB              T10   \n",
      "1  10531628    AMERICAN CHESAPEAKE CLUB CHARITABLE TR               T3   \n",
      "2  10547893        ST CLOUD PROFESSIONAL FIREFIGHTERS               T5   \n",
      "3  10553066            SOUTHSIDE ATHLETIC ASSOCIATION               T3   \n",
      "4  10556103  GENETIC RESEARCH INSTITUTE OF THE DESERT               T3   \n",
      "\n",
      "        AFFILIATION CLASSIFICATION      USE_CASE  ORGANIZATION  STATUS  \\\n",
      "0       Independent          C1000    ProductDev   Association       1   \n",
      "1       Independent          C2000  Preservation  Co-operative       1   \n",
      "2  CompanySponsored          C3000    ProductDev   Association       1   \n",
      "3  CompanySponsored          C2000  Preservation         Trust       1   \n",
      "4       Independent          C1000     Heathcare         Trust       1   \n",
      "\n",
      "      INCOME_AMT SPECIAL_CONSIDERATIONS  ASK_AMT  IS_SUCCESSFUL  \n",
      "0              0                      N     5000              1  \n",
      "1         1-9999                      N   108590              1  \n",
      "2              0                      N     5000              0  \n",
      "3    10000-24999                      N     6692              1  \n",
      "4  100000-499999                      N   142590              1  \n"
     ]
    }
   ],
   "source": [
    "\n",
    "# Importing \"applicants_data.csv\" file is in the \"Resources\" folder\n",
    "file_path = \"Resources/applicants_data.csv\"\n",
    "\n",
    "# Read the CSV file into a Pandas DataFrame\n",
    "applicant_data_df = pd.read_csv(file_path)\n",
    "\n",
    "# Review the DataFrame\n",
    "print(applicant_data_df.head())  # Display the first few rows of the DataFrame\n"
   ]
  },
  {
   "cell_type": "code",
   "execution_count": 115,
   "metadata": {},
   "outputs": [
    {
     "name": "stdout",
     "output_type": "stream",
     "text": [
      "EIN                        int64\n",
      "NAME                      object\n",
      "APPLICATION_TYPE          object\n",
      "AFFILIATION               object\n",
      "CLASSIFICATION            object\n",
      "USE_CASE                  object\n",
      "ORGANIZATION              object\n",
      "STATUS                     int64\n",
      "INCOME_AMT                object\n",
      "SPECIAL_CONSIDERATIONS    object\n",
      "ASK_AMT                    int64\n",
      "IS_SUCCESSFUL              int64\n",
      "dtype: object\n"
     ]
    }
   ],
   "source": [
    "# Review the data types associated with the columns\n",
    "print(applicant_data_df.dtypes)\n"
   ]
  },
  {
   "cell_type": "markdown",
   "metadata": {},
   "source": [
    "### Step 2: Drop the “EIN” (Employer Identification Number) and “NAME” columns from the DataFrame, because they are not relevant to the binary classification model."
   ]
  },
  {
   "cell_type": "code",
   "execution_count": 116,
   "metadata": {},
   "outputs": [
    {
     "name": "stdout",
     "output_type": "stream",
     "text": [
      "  APPLICATION_TYPE       AFFILIATION CLASSIFICATION      USE_CASE  \\\n",
      "0              T10       Independent          C1000    ProductDev   \n",
      "1               T3       Independent          C2000  Preservation   \n",
      "2               T5  CompanySponsored          C3000    ProductDev   \n",
      "3               T3  CompanySponsored          C2000  Preservation   \n",
      "4               T3       Independent          C1000     Heathcare   \n",
      "\n",
      "   ORGANIZATION  STATUS     INCOME_AMT SPECIAL_CONSIDERATIONS  ASK_AMT  \\\n",
      "0   Association       1              0                      N     5000   \n",
      "1  Co-operative       1         1-9999                      N   108590   \n",
      "2   Association       1              0                      N     5000   \n",
      "3         Trust       1    10000-24999                      N     6692   \n",
      "4         Trust       1  100000-499999                      N   142590   \n",
      "\n",
      "   IS_SUCCESSFUL  \n",
      "0              1  \n",
      "1              1  \n",
      "2              0  \n",
      "3              1  \n",
      "4              1  \n"
     ]
    }
   ],
   "source": [
    "# Drop the 'EIN' and 'NAME' columns from the DataFrame\n",
    "applicant_data_df = applicant_data_df.drop(['EIN', 'NAME'], axis=1)\n",
    "\n",
    "# Review the DataFrame\n",
    "print(applicant_data_df.head())\n"
   ]
  },
  {
   "cell_type": "markdown",
   "metadata": {},
   "source": [
    "### Step 3: Encode the dataset’s categorical variables using `OneHotEncoder`, and then place the encoded variables into a new DataFrame."
   ]
  },
  {
   "cell_type": "code",
   "execution_count": 117,
   "metadata": {},
   "outputs": [
    {
     "name": "stdout",
     "output_type": "stream",
     "text": [
      "['APPLICATION_TYPE', 'AFFILIATION', 'CLASSIFICATION', 'USE_CASE', 'ORGANIZATION', 'INCOME_AMT', 'SPECIAL_CONSIDERATIONS']\n"
     ]
    }
   ],
   "source": [
    "# Create a list of categorical variables\n",
    "categorical_variables = list(applicant_data_df.select_dtypes(include='object').columns)\n",
    "\n",
    "# Display the categorical variables list\n",
    "print(categorical_variables)\n"
   ]
  },
  {
   "cell_type": "code",
   "execution_count": 118,
   "metadata": {},
   "outputs": [],
   "source": [
    "# Create a OneHotEncoder instance\n",
    "enc = OneHotEncoder()\n"
   ]
  },
  {
   "cell_type": "code",
   "execution_count": 119,
   "metadata": {},
   "outputs": [],
   "source": [
    "# Assuming categorical_variables is the list of categorical column names\n",
    "categorical_columns = categorical_variables\n",
    "\n",
    "# Create a OneHotEncoder instance\n",
    "enc = OneHotEncoder()\n",
    "\n",
    "# Fit the encoder on the categorical columns and transform the data\n",
    "encoded_data = enc.fit_transform(applicant_data_df[categorical_columns]).toarray()\n"
   ]
  },
  {
   "cell_type": "code",
   "execution_count": 120,
   "metadata": {},
   "outputs": [
    {
     "name": "stdout",
     "output_type": "stream",
     "text": [
      "   STATUS  ASK_AMT  IS_SUCCESSFUL  APPLICATION_TYPE_T10  APPLICATION_TYPE_T12  \\\n",
      "0       1     5000              1                   1.0                   0.0   \n",
      "1       1   108590              1                   0.0                   0.0   \n",
      "2       1     5000              0                   0.0                   0.0   \n",
      "3       1     6692              1                   0.0                   0.0   \n",
      "4       1   142590              1                   0.0                   0.0   \n",
      "\n",
      "   APPLICATION_TYPE_T13  APPLICATION_TYPE_T14  APPLICATION_TYPE_T15  \\\n",
      "0                   0.0                   0.0                   0.0   \n",
      "1                   0.0                   0.0                   0.0   \n",
      "2                   0.0                   0.0                   0.0   \n",
      "3                   0.0                   0.0                   0.0   \n",
      "4                   0.0                   0.0                   0.0   \n",
      "\n",
      "   APPLICATION_TYPE_T17  APPLICATION_TYPE_T19  ...  INCOME_AMT_1-9999  \\\n",
      "0                   0.0                   0.0  ...                0.0   \n",
      "1                   0.0                   0.0  ...                1.0   \n",
      "2                   0.0                   0.0  ...                0.0   \n",
      "3                   0.0                   0.0  ...                0.0   \n",
      "4                   0.0                   0.0  ...                0.0   \n",
      "\n",
      "   INCOME_AMT_10000-24999  INCOME_AMT_100000-499999  INCOME_AMT_10M-50M  \\\n",
      "0                     0.0                       0.0                 0.0   \n",
      "1                     0.0                       0.0                 0.0   \n",
      "2                     0.0                       0.0                 0.0   \n",
      "3                     1.0                       0.0                 0.0   \n",
      "4                     0.0                       1.0                 0.0   \n",
      "\n",
      "   INCOME_AMT_1M-5M  INCOME_AMT_25000-99999  INCOME_AMT_50M+  \\\n",
      "0               0.0                     0.0              0.0   \n",
      "1               0.0                     0.0              0.0   \n",
      "2               0.0                     0.0              0.0   \n",
      "3               0.0                     0.0              0.0   \n",
      "4               0.0                     0.0              0.0   \n",
      "\n",
      "   INCOME_AMT_5M-10M  SPECIAL_CONSIDERATIONS_N  SPECIAL_CONSIDERATIONS_Y  \n",
      "0                0.0                       1.0                       0.0  \n",
      "1                0.0                       1.0                       0.0  \n",
      "2                0.0                       1.0                       0.0  \n",
      "3                0.0                       1.0                       0.0  \n",
      "4                0.0                       1.0                       0.0  \n",
      "\n",
      "[5 rows x 117 columns]\n"
     ]
    }
   ],
   "source": [
    "# Create a DataFrame with the encoded variables\n",
    "encoded_data = enc.transform(applicant_data_df[categorical_columns]).toarray()\n",
    "encoded_df = pd.DataFrame(encoded_data, columns=enc.get_feature_names_out(categorical_columns))\n",
    "\n",
    "# Concatenate the encoded DataFrame with the original DataFrame\n",
    "# Assuming non-categorical columns are stored in non_categorical_columns\n",
    "non_categorical_columns = [col for col in applicant_data_df.columns if col not in categorical_columns]\n",
    "result_df = pd.concat([applicant_data_df[non_categorical_columns], encoded_df], axis=1)\n",
    "\n",
    "# Review the DataFrame\n",
    "print(result_df.head())\n",
    "\n"
   ]
  },
  {
   "cell_type": "markdown",
   "metadata": {},
   "source": [
    "### Step 4: Add the original DataFrame’s numerical variables to the DataFrame containing the encoded variables.\n",
    "\n",
    "> **Note** To complete this step, you will employ the Pandas `concat()` function that was introduced earlier in this course. "
   ]
  },
  {
   "cell_type": "code",
   "execution_count": 121,
   "metadata": {},
   "outputs": [
    {
     "name": "stdout",
     "output_type": "stream",
     "text": [
      "   STATUS  ASK_AMT  IS_SUCCESSFUL  APPLICATION_TYPE_T10  APPLICATION_TYPE_T12  \\\n",
      "0       1     5000              1                   1.0                   0.0   \n",
      "1       1   108590              1                   0.0                   0.0   \n",
      "2       1     5000              0                   0.0                   0.0   \n",
      "3       1     6692              1                   0.0                   0.0   \n",
      "4       1   142590              1                   0.0                   0.0   \n",
      "\n",
      "   APPLICATION_TYPE_T13  APPLICATION_TYPE_T14  APPLICATION_TYPE_T15  \\\n",
      "0                   0.0                   0.0                   0.0   \n",
      "1                   0.0                   0.0                   0.0   \n",
      "2                   0.0                   0.0                   0.0   \n",
      "3                   0.0                   0.0                   0.0   \n",
      "4                   0.0                   0.0                   0.0   \n",
      "\n",
      "   APPLICATION_TYPE_T17  APPLICATION_TYPE_T19  ...  INCOME_AMT_1-9999  \\\n",
      "0                   0.0                   0.0  ...                0.0   \n",
      "1                   0.0                   0.0  ...                1.0   \n",
      "2                   0.0                   0.0  ...                0.0   \n",
      "3                   0.0                   0.0  ...                0.0   \n",
      "4                   0.0                   0.0  ...                0.0   \n",
      "\n",
      "   INCOME_AMT_10000-24999  INCOME_AMT_100000-499999  INCOME_AMT_10M-50M  \\\n",
      "0                     0.0                       0.0                 0.0   \n",
      "1                     0.0                       0.0                 0.0   \n",
      "2                     0.0                       0.0                 0.0   \n",
      "3                     1.0                       0.0                 0.0   \n",
      "4                     0.0                       1.0                 0.0   \n",
      "\n",
      "   INCOME_AMT_1M-5M  INCOME_AMT_25000-99999  INCOME_AMT_50M+  \\\n",
      "0               0.0                     0.0              0.0   \n",
      "1               0.0                     0.0              0.0   \n",
      "2               0.0                     0.0              0.0   \n",
      "3               0.0                     0.0              0.0   \n",
      "4               0.0                     0.0              0.0   \n",
      "\n",
      "   INCOME_AMT_5M-10M  SPECIAL_CONSIDERATIONS_N  SPECIAL_CONSIDERATIONS_Y  \n",
      "0                0.0                       1.0                       0.0  \n",
      "1                0.0                       1.0                       0.0  \n",
      "2                0.0                       1.0                       0.0  \n",
      "3                0.0                       1.0                       0.0  \n",
      "4                0.0                       1.0                       0.0  \n",
      "\n",
      "[5 rows x 117 columns]\n"
     ]
    }
   ],
   "source": [
    "# Assuming numerical_variables is the list of numerical column names\n",
    "numerical_columns = [col for col in applicant_data_df.columns if col not in categorical_columns]\n",
    "\n",
    "# Create a DataFrame with the encoded variables\n",
    "encoded_data = enc.transform(applicant_data_df[categorical_columns]).toarray()\n",
    "encoded_df = pd.DataFrame(encoded_data, columns=enc.get_feature_names_out(categorical_columns))\n",
    "\n",
    "# Concatenate the encoded DataFrame with the original numerical variables\n",
    "result_df = pd.concat([applicant_data_df[numerical_columns], encoded_df], axis=1)\n",
    "\n",
    "# Review the DataFrame\n",
    "print(result_df.head())\n"
   ]
  },
  {
   "cell_type": "markdown",
   "metadata": {},
   "source": [
    "### Step 5: Using the preprocessed data, create the features (`X`) and target (`y`) datasets. The target dataset should be defined by the preprocessed DataFrame column “IS_SUCCESSFUL”. The remaining columns should define the features dataset. \n",
    "\n"
   ]
  },
  {
   "cell_type": "code",
   "execution_count": 122,
   "metadata": {},
   "outputs": [
    {
     "name": "stdout",
     "output_type": "stream",
     "text": [
      "0    1\n",
      "1    1\n",
      "2    0\n",
      "3    1\n",
      "4    1\n",
      "Name: IS_SUCCESSFUL, dtype: int64\n"
     ]
    }
   ],
   "source": [
    "# Assuming 'IS_SUCCESSFUL' is the target column in your DataFrame\n",
    "y = applicant_data_df['IS_SUCCESSFUL']\n",
    "\n",
    "# Display a sample of y\n",
    "print(y.head())\n",
    "\n"
   ]
  },
  {
   "cell_type": "code",
   "execution_count": 123,
   "metadata": {},
   "outputs": [
    {
     "name": "stdout",
     "output_type": "stream",
     "text": [
      "  APPLICATION_TYPE       AFFILIATION CLASSIFICATION      USE_CASE  \\\n",
      "0              T10       Independent          C1000    ProductDev   \n",
      "1               T3       Independent          C2000  Preservation   \n",
      "2               T5  CompanySponsored          C3000    ProductDev   \n",
      "3               T3  CompanySponsored          C2000  Preservation   \n",
      "4               T3       Independent          C1000     Heathcare   \n",
      "\n",
      "   ORGANIZATION  STATUS     INCOME_AMT SPECIAL_CONSIDERATIONS  ASK_AMT  \n",
      "0   Association       1              0                      N     5000  \n",
      "1  Co-operative       1         1-9999                      N   108590  \n",
      "2   Association       1              0                      N     5000  \n",
      "3         Trust       1    10000-24999                      N     6692  \n",
      "4         Trust       1  100000-499999                      N   142590  \n"
     ]
    }
   ],
   "source": [
    "# Assuming 'IS_SUCCESSFUL' is the target column in your DataFrame\n",
    "target_column = 'IS_SUCCESSFUL'\n",
    "\n",
    "# Define features set X\n",
    "X = applicant_data_df.drop(columns=[target_column])\n",
    "\n",
    "# Review the features DataFrame\n",
    "print(X.head())"
   ]
  },
  {
   "cell_type": "markdown",
   "metadata": {},
   "source": [
    "### Step 6: Split the features and target sets into training and testing datasets.\n"
   ]
  },
  {
   "cell_type": "code",
   "execution_count": 124,
   "metadata": {},
   "outputs": [
    {
     "name": "stdout",
     "output_type": "stream",
     "text": [
      "X_train shape: (27439, 9)\n",
      "X_test shape: (6860, 9)\n",
      "y_train shape: (27439,)\n",
      "y_test shape: (6860,)\n"
     ]
    }
   ],
   "source": [
    "random_state = 1\n",
    "\n",
    "# Split the data into training and testing sets\n",
    "X_train, X_test, y_train, y_test = train_test_split(X, y, test_size=0.2, random_state=random_state)\n",
    "\n",
    "# Display the shapes of the resulting sets\n",
    "print(\"X_train shape:\", X_train.shape)\n",
    "print(\"X_test shape:\", X_test.shape)\n",
    "print(\"y_train shape:\", y_train.shape)\n",
    "print(\"y_test shape:\", y_test.shape)\n"
   ]
  },
  {
   "cell_type": "markdown",
   "metadata": {},
   "source": [
    "### Step 7: Use scikit-learn's `StandardScaler` to scale the features data."
   ]
  },
  {
   "cell_type": "code",
   "execution_count": 125,
   "metadata": {},
   "outputs": [
    {
     "name": "stdout",
     "output_type": "stream",
     "text": [
      "APPLICATION_TYPE          object\n",
      "AFFILIATION               object\n",
      "CLASSIFICATION            object\n",
      "USE_CASE                  object\n",
      "ORGANIZATION              object\n",
      "STATUS                     int64\n",
      "INCOME_AMT                object\n",
      "SPECIAL_CONSIDERATIONS    object\n",
      "ASK_AMT                    int64\n",
      "dtype: object\n",
      "Column APPLICATION_TYPE: ['T3' 'T10' 'T7' 'T5' 'T19' 'T6' 'T4' 'T8' 'T13' 'T9' 'T14' 'T2' 'T12'\n",
      " 'T25' 'T15' 'T29' 'T17']\n",
      "Column AFFILIATION: ['Independent' 'CompanySponsored' 'Other' 'National' 'Family/Parent'\n",
      " 'Regional']\n",
      "Column CLASSIFICATION: ['C1000' 'C2000' 'C1200' 'C7000' 'C3000' 'C4000' 'C2100' 'C2700' 'C1700'\n",
      " 'C2300' 'C1270' 'C1238' 'C1800' 'C2800' 'C5000' 'C1237' 'C1280' 'C1300'\n",
      " 'C7100' 'C1230' 'C8000' 'C7200' 'C7120' 'C1400' 'C1235' 'C1240' 'C1500'\n",
      " 'C1720' 'C1260' 'C1570' 'C1370' 'C3700' 'C8200' 'C4120' 'C1250' 'C1728'\n",
      " 'C4100' 'C6000' 'C1278' 'C1820' 'C7210' 'C2710' 'C1257' 'C1256' 'C0'\n",
      " 'C5200' 'C1900' 'C2400' 'C4200' 'C6100' 'C3200' 'C8210' 'C1600' 'C1234'\n",
      " 'C2570' 'C1248' 'C1245' 'C2380' 'C2561' 'C1246' 'C2500' 'C1732' 'C1580'\n",
      " 'C1267']\n",
      "Column USE_CASE: ['Preservation' 'ProductDev' 'Heathcare' 'CommunityServ' 'Other']\n",
      "Column ORGANIZATION: ['Trust' 'Association' 'Corporation' 'Co-operative']\n",
      "Column STATUS: [1 0]\n",
      "Column INCOME_AMT: ['0' '100000-499999' '25000-99999' '1M-5M' '10000-24999' '10M-50M'\n",
      " '1-9999' '5M-10M' '50M+']\n",
      "Column SPECIAL_CONSIDERATIONS: ['N' 'Y']\n",
      "Column ASK_AMT: [  5000 130860 723677 ...  56459  39021  45756]\n"
     ]
    }
   ],
   "source": [
    "# Create a StandardScaler instance\n",
    "scaler = StandardScaler()\n",
    "\n",
    "print(X_train.dtypes)\n",
    "\n",
    "# Print unique values for each column\n",
    "for column in X_train.columns:\n",
    "    unique_values = X_train[column].unique()\n",
    "    print(f\"Column {column}: {unique_values}\")\n"
   ]
  },
  {
   "cell_type": "markdown",
   "metadata": {},
   "source": [
    "---\n",
    "\n",
    "## Compile and Evaluate a Binary Classification Model Using a Neural Network"
   ]
  },
  {
   "cell_type": "markdown",
   "metadata": {},
   "source": [
    "### Step 1: Create a deep neural network by assigning the number of input features, the number of layers, and the number of neurons on each layer using Tensorflow’s Keras.\n",
    "\n",
    "> **Hint** You can start with a two-layer deep neural network model that uses the `relu` activation function for both layers.\n"
   ]
  },
  {
   "cell_type": "code",
   "execution_count": 126,
   "metadata": {},
   "outputs": [
    {
     "name": "stdout",
     "output_type": "stream",
     "text": [
      "Number of Input Features: 9\n"
     ]
    }
   ],
   "source": [
    "# Define the number of inputs (features) to the model\n",
    "number_input_features = X_train.shape[1]\n",
    "\n",
    "# Review the number of features\n",
    "print(\"Number of Input Features:\", number_input_features)\n",
    "\n"
   ]
  },
  {
   "cell_type": "code",
   "execution_count": 127,
   "metadata": {},
   "outputs": [],
   "source": [
    "# Define the number of neurons in the output layer\n",
    "number_output_neurons = 3"
   ]
  },
  {
   "cell_type": "code",
   "execution_count": 128,
   "metadata": {},
   "outputs": [
    {
     "name": "stdout",
     "output_type": "stream",
     "text": [
      "Number of Hidden Nodes in the First Hidden Layer: 8\n"
     ]
    }
   ],
   "source": [
    "# Define the number of hidden nodes for the first hidden layer\n",
    "hidden_nodes_layer1 = 8  \n",
    "\n",
    "# Review the number of hidden nodes in the first layer\n",
    "print(\"Number of Hidden Nodes in the First Hidden Layer:\", hidden_nodes_layer1)\n",
    "\n"
   ]
  },
  {
   "cell_type": "code",
   "execution_count": 129,
   "metadata": {},
   "outputs": [
    {
     "name": "stdout",
     "output_type": "stream",
     "text": [
      "Number of Hidden Nodes in the Second Hidden Layer: 4\n"
     ]
    }
   ],
   "source": [
    "# Define the number of hidden nodes for the second hidden layer\n",
    "hidden_nodes_layer2 = 4  \n",
    "\n",
    "# Review the number of hidden nodes in the second layer\n",
    "print(\"Number of Hidden Nodes in the Second Hidden Layer:\", hidden_nodes_layer2)\n",
    "\n"
   ]
  },
  {
   "cell_type": "code",
   "execution_count": 130,
   "metadata": {},
   "outputs": [],
   "source": [
    "# Create the Sequential model instance\n",
    "nn = Sequential()\n"
   ]
  },
  {
   "cell_type": "code",
   "execution_count": 131,
   "metadata": {},
   "outputs": [],
   "source": [
    "# Add the first hidden layer\n",
    "nn.add(Dense(units=hidden_nodes_layer1, input_dim=number_input_features, activation='relu'))\n"
   ]
  },
  {
   "cell_type": "code",
   "execution_count": 132,
   "metadata": {},
   "outputs": [],
   "source": [
    "# Add the second hidden layer\n",
    "nn.add(Dense(units=hidden_nodes_layer2, input_dim=number_input_features, activation='relu'))"
   ]
  },
  {
   "cell_type": "code",
   "execution_count": 133,
   "metadata": {},
   "outputs": [],
   "source": [
    "# Add the output layer\n",
    "nn.add(Dense(units=number_output_neurons, activation='sigmoid'))\n"
   ]
  },
  {
   "cell_type": "code",
   "execution_count": 134,
   "metadata": {},
   "outputs": [
    {
     "name": "stdout",
     "output_type": "stream",
     "text": [
      "Model: \"sequential_7\"\n",
      "_________________________________________________________________\n",
      " Layer (type)                Output Shape              Param #   \n",
      "=================================================================\n",
      " dense_17 (Dense)            (None, 8)                 80        \n",
      "                                                                 \n",
      " dense_18 (Dense)            (None, 4)                 36        \n",
      "                                                                 \n",
      " dense_19 (Dense)            (None, 3)                 15        \n",
      "                                                                 \n",
      "=================================================================\n",
      "Total params: 131 (524.00 Byte)\n",
      "Trainable params: 131 (524.00 Byte)\n",
      "Non-trainable params: 0 (0.00 Byte)\n",
      "_________________________________________________________________\n"
     ]
    }
   ],
   "source": [
    "# Display the Sequential model summary\n",
    "nn.summary()\n"
   ]
  },
  {
   "cell_type": "markdown",
   "metadata": {},
   "source": [
    "### Step 2: Compile and fit the model using the `binary_crossentropy` loss function, the `adam` optimizer, and the `accuracy` evaluation metric.\n"
   ]
  },
  {
   "cell_type": "code",
   "execution_count": 135,
   "metadata": {},
   "outputs": [],
   "source": [
    "# Compile the Sequential model\n",
    "nn.compile(loss='binary_crossentropy', optimizer='adam', metrics=['accuracy'])\n"
   ]
  },
  {
   "cell_type": "code",
   "execution_count": 136,
   "metadata": {},
   "outputs": [
    {
     "name": "stdout",
     "output_type": "stream",
     "text": [
      "Column APPLICATION_TYPE: ['T3' 'T10' 'T7' 'T5' 'T19' 'T6' 'T4' 'T8' 'T13' 'T9' 'T14' 'T2' 'T12'\n",
      " 'T25' 'T15' 'T29' 'T17']\n",
      "Column AFFILIATION: ['Independent' 'CompanySponsored' 'Other' 'National' 'Family/Parent'\n",
      " 'Regional']\n",
      "Column CLASSIFICATION: ['C1000' 'C2000' 'C1200' 'C7000' 'C3000' 'C4000' 'C2100' 'C2700' 'C1700'\n",
      " 'C2300' 'C1270' 'C1238' 'C1800' 'C2800' 'C5000' 'C1237' 'C1280' 'C1300'\n",
      " 'C7100' 'C1230' 'C8000' 'C7200' 'C7120' 'C1400' 'C1235' 'C1240' 'C1500'\n",
      " 'C1720' 'C1260' 'C1570' 'C1370' 'C3700' 'C8200' 'C4120' 'C1250' 'C1728'\n",
      " 'C4100' 'C6000' 'C1278' 'C1820' 'C7210' 'C2710' 'C1257' 'C1256' 'C0'\n",
      " 'C5200' 'C1900' 'C2400' 'C4200' 'C6100' 'C3200' 'C8210' 'C1600' 'C1234'\n",
      " 'C2570' 'C1248' 'C1245' 'C2380' 'C2561' 'C1246' 'C2500' 'C1732' 'C1580'\n",
      " 'C1267']\n",
      "Column USE_CASE: ['Preservation' 'ProductDev' 'Heathcare' 'CommunityServ' 'Other']\n",
      "Column ORGANIZATION: ['Trust' 'Association' 'Corporation' 'Co-operative']\n",
      "Column STATUS: [1 0]\n",
      "Column INCOME_AMT: ['0' '100000-499999' '25000-99999' '1M-5M' '10000-24999' '10M-50M'\n",
      " '1-9999' '5M-10M' '50M+']\n",
      "Column SPECIAL_CONSIDERATIONS: ['N' 'Y']\n",
      "Column ASK_AMT: [  5000 130860 723677 ...  56459  39021  45756]\n",
      "APPLICATION_TYPE          object\n",
      "AFFILIATION               object\n",
      "CLASSIFICATION            object\n",
      "USE_CASE                  object\n",
      "ORGANIZATION              object\n",
      "STATUS                     int64\n",
      "INCOME_AMT                object\n",
      "SPECIAL_CONSIDERATIONS    object\n",
      "ASK_AMT                    int64\n",
      "dtype: object\n"
     ]
    }
   ],
   "source": [
    "# Create a StandardScaler instance\n",
    "scaler = StandardScaler()\n",
    "\n",
    "for column in X_train.columns:\n",
    "    unique_values = X_train[column].unique()\n",
    "    print(f\"Column {column}: {unique_values}\")\n",
    "\n",
    "print(X_train.dtypes)\n"
   ]
  },
  {
   "cell_type": "markdown",
   "metadata": {},
   "source": [
    "### Step 3: Evaluate the model using the test data to determine the model’s loss and accuracy.\n"
   ]
  },
  {
   "cell_type": "code",
   "execution_count": null,
   "metadata": {},
   "outputs": [],
   "source": [
    "# Data preprocessing for test data\n",
    "X_test_preprocessed = preprocessor.transform(X_test)\n",
    "\n",
    "# Evaluate the model on the test data\n",
    "eval_result = model.evaluate(X_test_preprocessed, y_test)\n",
    "\n",
    "# Print the loss and accuracy\n",
    "print(f\"Test Loss: {eval_result[0]:.4f}\")\n",
    "print(f\"Test Accuracy: {eval_result[1]*100:.2f}%\")\n"
   ]
  },
  {
   "cell_type": "markdown",
   "metadata": {},
   "source": [
    "### Step 1: Define at least three new deep neural network models (resulting in the original plus 3 optimization attempts). With each, try to improve on your first model’s predictive accuracy.\n",
    "\n",
    "> **Rewind** Recall that perfect accuracy has a value of 1, so accuracy improves as its value moves closer to 1. To optimize your model for a predictive accuracy as close to 1 as possible, you can use any or all of the following techniques:\n",
    ">\n",
    "> * Adjust the input data by dropping different features columns to ensure that no variables or outliers confuse the model.\n",
    ">\n",
    "> * Add more neurons (nodes) to a hidden layer.\n",
    ">\n",
    "> * Add more hidden layers.\n",
    ">\n",
    "> * Use different activation functions for the hidden layers.\n",
    ">\n",
    "> * Add to or reduce the number of epochs in the training regimen.\n"
   ]
  },
  {
   "cell_type": "markdown",
   "metadata": {},
   "source": [
    "### Step 4: Save and export your model to an HDF5 file, and name the file `AlphabetSoup.h5`. \n"
   ]
  },
  {
   "cell_type": "code",
   "execution_count": 137,
   "metadata": {},
   "outputs": [
    {
     "name": "stderr",
     "output_type": "stream",
     "text": [
      "/Library/Frameworks/Python.framework/Versions/3.11/lib/python3.11/site-packages/keras/src/engine/training.py:3103: UserWarning: You are saving your model as an HDF5 file via `model.save()`. This file format is considered legacy. We recommend using instead the native Keras format, e.g. `model.save('my_model.keras')`.\n",
      "  saving_api.save_model(\n"
     ]
    }
   ],
   "source": [
    "# Set the model's file path\n",
    "file_path = \"path/to/your/model.h5\"  \n",
    "\n",
    "# Export your model to a HDF5 file\n",
    "nn.save(file_path)\n"
   ]
  },
  {
   "cell_type": "markdown",
   "metadata": {},
   "source": [
    "---\n",
    "\n",
    "## Optimize the neural network model\n"
   ]
  },
  {
   "cell_type": "markdown",
   "metadata": {},
   "source": [
    "### Step 1: Define at least three new deep neural network models (resulting in the original plus 3 optimization attempts). With each, try to improve on your first model’s predictive accuracy.\n",
    "\n",
    "> **Rewind** Recall that perfect accuracy has a value of 1, so accuracy improves as its value moves closer to 1. To optimize your model for a predictive accuracy as close to 1 as possible, you can use any or all of the following techniques:\n",
    ">\n",
    "> * Adjust the input data by dropping different features columns to ensure that no variables or outliers confuse the model.\n",
    ">\n",
    "> * Add more neurons (nodes) to a hidden layer.\n",
    ">\n",
    "> * Add more hidden layers.\n",
    ">\n",
    "> * Use different activation functions for the hidden layers.\n",
    ">\n",
    "> * Add to or reduce the number of epochs in the training regimen.\n"
   ]
  },
  {
   "cell_type": "markdown",
   "metadata": {},
   "source": [
    "### Alternative Model 1"
   ]
  },
  {
   "cell_type": "code",
   "execution_count": 138,
   "metadata": {},
   "outputs": [
    {
     "data": {
      "text/plain": [
       "9"
      ]
     },
     "execution_count": 138,
     "metadata": {},
     "output_type": "execute_result"
    }
   ],
   "source": [
    "# Define the number of inputs (features) to the model\n",
    "number_input_features = len(X_train.iloc[0])\n",
    "\n",
    "# Review the number of features\n",
    "number_input_features\n"
   ]
  },
  {
   "cell_type": "code",
   "execution_count": 139,
   "metadata": {},
   "outputs": [],
   "source": [
    "# Define the number of neurons in the output layer for binary classification\n",
    "number_output_neurons_A1 = 1\n"
   ]
  },
  {
   "cell_type": "code",
   "execution_count": 140,
   "metadata": {},
   "outputs": [
    {
     "name": "stdout",
     "output_type": "stream",
     "text": [
      "Number of Hidden Nodes in the First Hidden Layer: 16\n"
     ]
    }
   ],
   "source": [
    "# Define the number of hidden nodes for the first hidden layer\n",
    "hidden_nodes_layer1_A1 = 16  \n",
    "\n",
    "# Review the number of hidden nodes in the first layer\n",
    "print(\"Number of Hidden Nodes in the First Hidden Layer:\", hidden_nodes_layer1_A1)\n"
   ]
  },
  {
   "cell_type": "code",
   "execution_count": 141,
   "metadata": {},
   "outputs": [],
   "source": [
    "# Create the Sequential model instance\n",
    "nn_A1 = Sequential()"
   ]
  },
  {
   "cell_type": "code",
   "execution_count": 142,
   "metadata": {},
   "outputs": [
    {
     "name": "stdout",
     "output_type": "stream",
     "text": [
      "Model: \"sequential_8\"\n",
      "_________________________________________________________________\n",
      " Layer (type)                Output Shape              Param #   \n",
      "=================================================================\n",
      " dense_20 (Dense)            (None, 16)                160       \n",
      "                                                                 \n",
      " dense_21 (Dense)            (None, 1)                 17        \n",
      "                                                                 \n",
      "=================================================================\n",
      "Total params: 177 (708.00 Byte)\n",
      "Trainable params: 177 (708.00 Byte)\n",
      "Non-trainable params: 0 (0.00 Byte)\n",
      "_________________________________________________________________\n"
     ]
    }
   ],
   "source": [
    "# First hidden layer\n",
    "nn_A1.add(Dense(units=hidden_nodes_layer1_A1, input_dim=number_input_features, activation='relu'))\n",
    "\n",
    "# Output layer\n",
    "nn_A1.add(Dense(units=number_output_neurons_A1, activation='sigmoid'))  # Assuming binary classification, adjust for multiclass\n",
    "\n",
    "# Check the structure of the model\n",
    "nn_A1.summary()"
   ]
  },
  {
   "cell_type": "code",
   "execution_count": 143,
   "metadata": {},
   "outputs": [],
   "source": [
    "# Compile the Sequential model\n",
    "nn_A1.compile(loss='binary_crossentropy', optimizer='adam', metrics=['accuracy'])\n"
   ]
  },
  {
   "cell_type": "code",
   "execution_count": null,
   "metadata": {},
   "outputs": [],
   "source": [
    "# Fit the model using 50 epochs and the training data\n",
    "\n",
    "fit_model_A1 = nn_A1.fit(X_train, y_train, epochs=50)"
   ]
  },
  {
   "cell_type": "markdown",
   "metadata": {},
   "source": [
    "#### Alternative Model 2"
   ]
  },
  {
   "cell_type": "code",
   "execution_count": 144,
   "metadata": {},
   "outputs": [
    {
     "data": {
      "text/plain": [
       "9"
      ]
     },
     "execution_count": 144,
     "metadata": {},
     "output_type": "execute_result"
    }
   ],
   "source": [
    "# Define the number of inputs (features) to the model\n",
    "number_input_features = len(X_train.iloc[0])\n",
    "\n",
    "# Review the number of features\n",
    "number_input_features"
   ]
  },
  {
   "cell_type": "code",
   "execution_count": 145,
   "metadata": {},
   "outputs": [],
   "source": [
    "# Define the number of neurons in the output layer\n",
    "number_output_neurons_A1 = 2"
   ]
  },
  {
   "cell_type": "code",
   "execution_count": 146,
   "metadata": {},
   "outputs": [
    {
     "name": "stdout",
     "output_type": "stream",
     "text": [
      "Number of Hidden Nodes in the First Hidden Layer: 16\n"
     ]
    },
    {
     "data": {
      "text/plain": [
       "16"
      ]
     },
     "execution_count": 146,
     "metadata": {},
     "output_type": "execute_result"
    }
   ],
   "source": [
    "# Define the number of hidden nodes for the first hidden layer\n",
    "hidden_nodes_layer1_A2 = 16\n",
    " \n",
    "# Review the number of hidden nodes in the first layer\n",
    "print(\"Number of Hidden Nodes in the First Hidden Layer:\", hidden_nodes_layer1_A1)\n",
    "\n",
    "# Review the number of hidden nodes in the first layer\n",
    "hidden_nodes_layer1_A2"
   ]
  },
  {
   "cell_type": "code",
   "execution_count": 147,
   "metadata": {},
   "outputs": [],
   "source": [
    "# Create the Sequential model instance\n",
    "nn_A2 = Sequential()"
   ]
  },
  {
   "cell_type": "code",
   "execution_count": 148,
   "metadata": {},
   "outputs": [
    {
     "name": "stdout",
     "output_type": "stream",
     "text": [
      "Model: \"sequential_9\"\n",
      "_________________________________________________________________\n",
      " Layer (type)                Output Shape              Param #   \n",
      "=================================================================\n",
      " dense_22 (Dense)            (None, 16)                160       \n",
      "                                                                 \n",
      " dense_23 (Dense)            (None, 2)                 34        \n",
      "                                                                 \n",
      "=================================================================\n",
      "Total params: 194 (776.00 Byte)\n",
      "Trainable params: 194 (776.00 Byte)\n",
      "Non-trainable params: 0 (0.00 Byte)\n",
      "_________________________________________________________________\n"
     ]
    }
   ],
   "source": [
    "# First hidden layer\n",
    "nn_A2.add(Dense(units=hidden_nodes_layer1_A1, input_dim=number_input_features, activation='relu'))\n",
    "\n",
    "# Output layer\n",
    "nn_A2.add(Dense(units=number_output_neurons_A1, activation='sigmoid'))  # Assuming binary classification, adjust for multiclass\n",
    "\n",
    "# Check the structure of the model\n",
    "nn_A2.summary()"
   ]
  },
  {
   "cell_type": "code",
   "execution_count": 149,
   "metadata": {},
   "outputs": [],
   "source": [
    "# Compile the model\n",
    "nn_A2.compile(loss='binary_crossentropy', optimizer='adam', metrics=['accuracy'])\n"
   ]
  },
  {
   "cell_type": "code",
   "execution_count": null,
   "metadata": {},
   "outputs": [],
   "source": [
    "# Fit the model\n",
    "fit_model_A2 = nn_A2.fit(X_train, y_train, epochs=50)\n"
   ]
  },
  {
   "cell_type": "markdown",
   "metadata": {},
   "source": [
    "### Step 2: After finishing your models, display the accuracy scores achieved by each model, and compare the results."
   ]
  },
  {
   "cell_type": "code",
   "execution_count": null,
   "metadata": {},
   "outputs": [],
   "source": [
    "print(\"Original Model Results\")\n",
    "\n",
    "# Evaluate the model loss and accuracy metrics using the evaluate method and the test data\n",
    "model_loss, model_accuracy = nn_A1.evaluate(X_test, y_test)\n",
    "\n",
    "# Display the model loss and accuracy results\n",
    "print(f\"Loss: {model_loss}, Accuracy: {model_accuracy}\")\n"
   ]
  },
  {
   "cell_type": "code",
   "execution_count": null,
   "metadata": {},
   "outputs": [],
   "source": [
    "print(\"Alternative Model 1 Results\")\n",
    "\n",
    "# Assuming nn_alternative is your alternative Sequential model instance\n",
    "# Evaluate the model loss and accuracy metrics using the evaluate method and the test data\n",
    "model_loss_alternative, model_accuracy_alternative = nn_alternative.evaluate(X_test_scaled, y_test)\n",
    "\n",
    "# Display the model loss and accuracy results\n",
    "print(f\"Loss: {model_loss_alternative}, Accuracy: {model_accuracy_alternative}\")\n"
   ]
  },
  {
   "cell_type": "code",
   "execution_count": null,
   "metadata": {},
   "outputs": [],
   "source": [
    "print(\"Alternative Model 2 Results\")\n",
    "\n",
    "# Evaluate the model loss and accuracy metrics using the evaluate method and the test data\n",
    "model_loss, model_accuracy = # YOUR CODE HERE\n",
    "\n",
    "# Display the model loss and accuracy results\n",
    "print(f\"Loss: {model_loss}, Accuracy: {model_accuracy}\")"
   ]
  },
  {
   "cell_type": "markdown",
   "metadata": {},
   "source": [
    "### Step 3: Save each of your alternative models as an HDF5 file.\n"
   ]
  },
  {
   "cell_type": "code",
   "execution_count": null,
   "metadata": {},
   "outputs": [],
   "source": [
    "# Set the file path for the first alternative model\n",
    "file_path_model2 = \"path/to/your/first_alternative_model.h5\" \n",
    "# Export your model to an HDF5 file\n",
    "nn_model2.save(file_path_model)\n"
   ]
  },
  {
   "cell_type": "code",
   "execution_count": null,
   "metadata": {},
   "outputs": [],
   "source": [
    "# Set the file path for the second alternative model\n",
    "file_path_model3 = \"path/to/your/second_alternative_model.h5\"  # Replace with your desired file path\n",
    "\n",
    "# Export your model to an HDF5 file\n",
    "nn_model3.save(file_path_model3)\n"
   ]
  },
  {
   "cell_type": "code",
   "execution_count": null,
   "metadata": {},
   "outputs": [],
   "source": []
  }
 ],
 "metadata": {
  "kernelspec": {
   "display_name": "Python 3",
   "language": "python",
   "name": "python3"
  },
  "language_info": {
   "codemirror_mode": {
    "name": "ipython",
    "version": 3
   },
   "file_extension": ".py",
   "mimetype": "text/x-python",
   "name": "python",
   "nbconvert_exporter": "python",
   "pygments_lexer": "ipython3",
   "version": "3.11.1"
  }
 },
 "nbformat": 4,
 "nbformat_minor": 4
}
